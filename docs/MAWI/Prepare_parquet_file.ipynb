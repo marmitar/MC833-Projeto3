{
 "cells": [
  {
   "cell_type": "code",
   "execution_count": 1,
   "metadata": {
    "colab": {
     "base_uri": "https://localhost:8080/"
    },
    "executionInfo": {
     "elapsed": 24341,
     "status": "ok",
     "timestamp": 1747829780293,
     "user": {
      "displayName": "Rómulo Walter Condori Bustincio",
      "userId": "00729933539588958074"
     },
     "user_tz": 180
    },
    "id": "n09c5q_PwA0S",
    "outputId": "2f6dded6-11de-41f6-9876-6ce03bc1e2bc"
   },
   "outputs": [
    {
     "name": "stderr",
     "output_type": "stream",
     "text": [
      "2025-06-15 21:42:58.617722: I tensorflow/core/platform/cpu_feature_guard.cc:210] This TensorFlow binary is optimized to use available CPU instructions in performance-critical operations.\n",
      "To enable the following instructions: SSE3 SSE4.1 SSE4.2 AVX AVX2 AVX512F AVX512_VNNI AVX512_BF16 FMA, in other operations, rebuild TensorFlow with the appropriate compiler flags.\n"
     ]
    },
    {
     "name": "stdout",
     "output_type": "stream",
     "text": [
      "Total de sequências: 871\n",
      "Treinamento: 696\n",
      "Teste:       175\n",
      "Verificação: soma total = 871\n"
     ]
    },
    {
     "name": "stderr",
     "output_type": "stream",
     "text": [
      "/tmp/ipykernel_95228/850901476.py:17: SettingWithCopyWarning: \n",
      "A value is trying to be set on a copy of a slice from a DataFrame.\n",
      "Try using .loc[row_indexer,col_indexer] = value instead\n",
      "\n",
      "See the caveats in the documentation: https://pandas.pydata.org/pandas-docs/stable/user_guide/indexing.html#returning-a-view-versus-a-copy\n",
      "  df_tcp['second'] = df_tcp['timestamp'].dt.floor('s')\n"
     ]
    }
   ],
   "source": [
    "import pandas as pd\n",
    "import numpy as np\n",
    "import matplotlib.pyplot as plt\n",
    "from sklearn.preprocessing import MinMaxScaler\n",
    "from statsmodels.tsa.arima.model import ARIMA\n",
    "from tensorflow.keras.models import Sequential\n",
    "from tensorflow.keras.layers import LSTM, GRU, Dense, Dropout\n",
    "from tensorflow.keras.callbacks import EarlyStopping\n",
    "\n",
    "# file_name = '/content/drive/MyDrive/PED/TRabalho_3_2025/MAWI/200701011400.parquet'\n",
    "file_name = '200701011400.parquet'\n",
    "\n",
    "# Ler e preparar os dados\n",
    "df = pd.read_parquet(file_name, engine=\"pyarrow\")\n",
    "df['timestamp'] = pd.to_datetime(df['timestamp'])\n",
    "df_tcp = df[df['type'] == 'TCP']\n",
    "df_tcp['second'] = df_tcp['timestamp'].dt.floor('s')\n",
    "traffic = df_tcp.groupby('second')['size'].sum().reset_index()\n",
    "traffic.rename(columns={'size': 'bytes'}, inplace=True)\n",
    "\n",
    "# Escalonamento\n",
    "scaler = MinMaxScaler()\n",
    "data_scaled = scaler.fit_transform(traffic[['bytes']].values)\n",
    "\n",
    "# Gerar sequências 'janela'\n",
    "def create_sequences(data, seq_len):\n",
    "    X, y = [], []\n",
    "    for i in range(len(data) - seq_len):\n",
    "        X.append(data[i:i+seq_len])\n",
    "        y.append(data[i+seq_len])\n",
    "    return np.array(X), np.array(y)\n",
    "\n",
    "seq_len = 30  # Hiperparâmetro de sequência 'janela'\n",
    "X, y = create_sequences(data_scaled, seq_len)\n",
    "\n",
    "# Dividir em treino e teste\n",
    "train_size = int(len(X) * 0.8)\n",
    "test_size = len(X) - train_size\n",
    "\n",
    "X_train = X[:train_size]\n",
    "y_train = y[:train_size]\n",
    "X_test = X[train_size:]\n",
    "y_test = y[train_size:]\n",
    "\n",
    "print(f\"Total de sequências: {len(X)}\")\n",
    "print(f\"Treinamento: {len(X_train)}\")\n",
    "print(f\"Teste:       {len(X_test)}\")\n",
    "print(f\"Verificação: soma total = {len(X_train) + len(X_test)}\")\n"
   ]
  }
 ],
 "metadata": {
  "colab": {
   "authorship_tag": "ABX9TyNLufQAIoHOLLf/BJ9KW3QR",
   "mount_file_id": "1dnm_0vekZtB9BSEBpMwx6zFgBxYnSgbh",
   "provenance": []
  },
  "kernelspec": {
   "display_name": ".venv",
   "language": "python",
   "name": "python3"
  },
  "language_info": {
   "codemirror_mode": {
    "name": "ipython",
    "version": 3
   },
   "file_extension": ".py",
   "mimetype": "text/x-python",
   "name": "python",
   "nbconvert_exporter": "python",
   "pygments_lexer": "ipython3",
   "version": "3.12.11"
  }
 },
 "nbformat": 4,
 "nbformat_minor": 0
}
